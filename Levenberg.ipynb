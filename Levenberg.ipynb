{
 "cells": [
  {
   "cell_type": "code",
   "execution_count": null,
   "metadata": {},
   "outputs": [],
   "source": [
    "import numpy as np\n",
    "import matplotlib.pyplot as plt"
   ]
  },
  {
   "cell_type": "code",
   "execution_count": null,
   "metadata": {},
   "outputs": [],
   "source": [
    "class NN:\n",
    "   \n",
    "    def __init__(self, nn):\n",
    "        self.net = {'nn': nn, 'M': len(nn) - 1, 'layers': nn[1:]}\n",
    "        self.net['w'], self.net['b'], self.net['N'] = self.create_w()\n",
    "\n",
    "    def create_w(self):\n",
    "        w = []\n",
    "        b = []\n",
    "        weights = 0\n",
    "        for i in range(self.net['M']):\n",
    "            w.append(np.random.rand(self.net['nn'][i+1], self.net['nn'][i]) - 0.5)\n",
    "            b.append(np.random.rand(self.net['nn'][i+1]))\n",
    "            weights += self.net['nn'][i+1] * (self.net['nn'][i] + 1)\n",
    "\n",
    "        return w, b, weights\n",
    "\n",
    "    @staticmethod\n",
    "    def sigmoid(x):\n",
    "        return 1.0/(1 + np.exp(-x))\n",
    "\n",
    "    def feed_forward(self, x):\n",
    "        ret = x\n",
    "        for i in range(len(self.net['w'])):\n",
    "            ret = np.dot(ret, self.net['w'][i].transpose())\n",
    "            for j in range(ret.shape[0]):\n",
    "                ret[j][:] += self.net['b'][i]\n",
    "            ret = NN.sigmoid(ret)\n",
    "        return ret\n",
    "\n",
    "    @staticmethod\n",
    "    def map_weights(w, b):\n",
    "        w_to_layer = {}\n",
    "        counter = 0\n",
    "        for layer in range(len(w)):\n",
    "            for i in range(w[layer].shape[0]):\n",
    "                w_to_layer[counter] = (layer, i, -1)\n",
    "                counter += 1\n",
    "                for j in range(w[layer].shape[1]):\n",
    "                    w_to_layer[counter] = (layer, i, j)\n",
    "                    counter += 1\n",
    "        return  w_to_layer   \n",
    "        \n",
    "    def train_levenberg(self, x, y, epochs=100, u=0.01):\n",
    "        print(len(x))\n",
    "        Errors=[]\n",
    "        Number_patterns = len(x)\n",
    "        output_neurons = self.net['nn'][len(self.net['nn']) - 1]\n",
    "        w_to_layer = NN.map_weights(self.net['w'], self.net['b'])\n",
    "        for epoch in range(epochs):\n",
    "            prediction = self.feed_forward(x)\n",
    "            e = NN.calculate_e(Number_patterns, output_neurons, y, prediction)\n",
    "            error = 0.5 * np.sum(np.square(e))\n",
    "            Errors.append(error)\n",
    "            j = self.create_j(x, y, e, self.net['N'],w_to_layer, Number_patterns, output_neurons)\n",
    "           \n",
    "            H=np.dot(j.transpose(), j) + u*np.identity(j.shape[1])\n",
    "            tmp = np.dot(np.linalg.pinv(H), np.dot(j.transpose(), e.transpose()))\n",
    "            for i in range(len(tmp)):\n",
    "                tup = w_to_layer[i]\n",
    "                if tup[2] == -1:\n",
    "                    self.net['b'][tup[0]][tup[1]] -= tmp[i]\n",
    "                else:\n",
    "                    self.net['w'][tup[0]][tup[1]][tup[2]] -= tmp[i]\n",
    "        \n",
    "        plt.plot(Errors)\n",
    "        plt.ylabel('error')\n",
    "        plt.xlabel('iterations (per tens)')\n",
    "        plt.show()\n",
    "        return self.net['w'], self.net['b']\n",
    "\n",
    "    @staticmethod\n",
    "    def calculate_e(patterns, output_neurons, y, prediction):\n",
    "        e = np.zeros([1, patterns*output_neurons])\n",
    "        counter = 0\n",
    "        for i in range(patterns):\n",
    "            for j in range(output_neurons):\n",
    "                e[0][counter] = y[i][j] - prediction[i][j]\n",
    "                counter += 1\n",
    "\n",
    "        return e\n",
    "\n",
    "    def create_j(self, x, y, e, weights,w_to_layer, patterns, output_neurons):\n",
    "        delta_w = 0.001\n",
    "        j = np.zeros([e.shape[1], weights])\n",
    "        original_e = NN.calculate_e(patterns, output_neurons, y, self.feed_forward(x)).transpose()\n",
    "\n",
    "        for i in range(weights):\n",
    "            top = w_to_layer[i]\n",
    "            if top[2] == -1:\n",
    "                self.net['b'][top[0]][top[1]] += delta_w\n",
    "            else:\n",
    "                self.net['w'][top[0]][top[1]][top[2]] += delta_w\n",
    "\n",
    "            predict_e = NN.calculate_e(patterns, output_neurons, y, self.feed_forward(x)).transpose()\n",
    "            subt = np.subtract(predict_e, original_e)\n",
    "            for row in range(j.shape[0]):\n",
    "                j[row][i] += subt[row]\n",
    "\n",
    "            if top[2] == -1:\n",
    "                self.net['b'][top[0]][top[1]] -= delta_w\n",
    "            else:\n",
    "                self.net['w'][top[0]][top[1]][top[2]] -= delta_w\n",
    "                \n",
    "        return j\n",
    "\n",
    "    def predict(self, x):\n",
    "        predict = self.feed_forward(x)\n",
    "        for i in range(predict.shape[0]):\n",
    "            for j in range(predict.shape[1]):\n",
    "                if predict[i][j] >= 0.5:\n",
    "                    predict[i][j] = 1\n",
    "                else:\n",
    "                    predict[i][j] = 0\n",
    "        return predict"
   ]
  },
  {
   "cell_type": "code",
   "execution_count": 29,
   "metadata": {},
   "outputs": [
    {
     "name": "stdout",
     "output_type": "stream",
     "text": [
      "4\n"
     ]
    },
    {
     "data": {
      "image/png": "[encoded data removed]",
      "text/plain": [
       "<Figure size 360x288 with 1 Axes>"
      ]
     },
     "metadata": {
      "needs_background": "light"
     },
     "output_type": "display_data"
    },
    {
     "name": "stdout",
     "output_type": "stream",
     "text": [
      "Pridect\n",
      "[[0.]]\n",
      "[[1.]]\n",
      "[[1.]]\n",
      "[[0.]]\n"
     ]
    }
   ],
   "source": [
    "nn = NN([3,2,1])\n",
    "nn.train_levenberg([[0,0,0],[0,1,0],[1,1,0],[1,0,0]], [[0], [1], [1],[0]])\n",
    "print(\"Pridect\")\n",
    "print(nn.predict([[0,0,0]]))\n",
    "print(nn.predict([[0,1,0]]))\n",
    "print(nn.predict([[1,1,0]]))\n",
    "print(nn.predict([[1,0,0]]))    "
   ]
  },
  {
   "cell_type": "code",
   "execution_count": null,
   "metadata": {},
   "outputs": [],
   "source": []
  },
  {
   "cell_type": "code",
   "execution_count": null,
   "metadata": {},
   "outputs": [],
   "source": []
  }
 ],
 "metadata": {
  "kernelspec": {
   "display_name": "Python 3",
   "language": "python",
   "name": "python3"
  },
  "language_info": {
   "codemirror_mode": {
    "name": "ipython",
    "version": 3
   },
   "file_extension": ".py",
   "mimetype": "text/x-python",
   "name": "python",
   "nbconvert_exporter": "python",
   "pygments_lexer": "ipython3",
   "version": "3.7.0"
  }
 },
 "nbformat": 4,
 "nbformat_minor": 2
}
